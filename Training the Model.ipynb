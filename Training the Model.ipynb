{
 "cells": [
  {
   "cell_type": "markdown",
   "id": "39a3f326",
   "metadata": {},
   "source": [
    "# Training face recognition - Football celebrity recognition"
   ]
  },
  {
   "cell_type": "code",
   "execution_count": 86,
   "id": "694922f7",
   "metadata": {},
   "outputs": [],
   "source": [
    "import numpy as np\n",
    "import cv2\n",
    "import matplotlib.pyplot as plt\n",
    "import pandas as pd\n",
    "import os\n",
    "from skimage.feature import hog\n",
    "import pickle"
   ]
  },
  {
   "cell_type": "markdown",
   "id": "07c3d659",
   "metadata": {},
   "source": [
    "## Delete duplicates in the images"
   ]
  },
  {
   "cell_type": "code",
   "execution_count": 87,
   "id": "80f47a73",
   "metadata": {},
   "outputs": [],
   "source": [
    "import hashlib\n",
    "\n",
    "def average_hash(image, hash_size=8):\n",
    "    resized_image = cv2.resize(image,(hash_size,hash_size))\n",
    "    gray_image = cv2.cvtColor(resized_image, cv2.COLOR_BGR2GRAY)\n",
    "    mean = gray_image.mean()\n",
    "    return ''.join(['1' if pixel>=mean else '0' for pixel in gray_image.flatten()])\n",
    "\n",
    "def find_duplicates(directory):\n",
    "    hashes={}\n",
    "    duplicates = []\n",
    "    \n",
    "    for root, dirs, files in os.walk(directory):\n",
    "        for file in files:\n",
    "            filepath = os.path.join(root,file)\n",
    "            if filepath.endswith(('.jpg','jpeg','.png')):\n",
    "                image = cv2.imread(filepath)\n",
    "                image_hash = average_hash(image)\n",
    "                if image_hash in hashes:\n",
    "                    duplicates.append((filepath, hashes[image_hash]))\n",
    "                else:\n",
    "                    hashes[image_hash]=filepath\n",
    "    return duplicates\n",
    "\n",
    "def remove_duplicates(duplicates):\n",
    "    for duplicate in duplicates:\n",
    "        print(f\"Removing duplicates: {duplicate[0]}\")\n",
    "        os.remove(duplicate[0])"
   ]
  },
  {
   "cell_type": "code",
   "execution_count": 88,
   "id": "5fe9d4f4",
   "metadata": {},
   "outputs": [
    {
     "name": "stdout",
     "output_type": "stream",
     "text": [
      "No duplicates found in Modric\n",
      "No duplicates found in Ronaldo\n",
      "No duplicates found in Ibrahimovic\n",
      "No duplicates found in Benzema\n",
      "No duplicates found in Neymar\n",
      "No duplicates found in Haaland\n",
      "No duplicates found in Mbappe\n",
      "No duplicates found in Unknown\n",
      "No duplicates found in Messi\n"
     ]
    }
   ],
   "source": [
    "dirs = [x for x in os.listdir('faces/') if '.' not in x]\n",
    "for folder in dirs:\n",
    "    duplicates = find_duplicates(folder)\n",
    "    if duplicates:\n",
    "        print(f'Duplicates found in {folder}')\n",
    "        remove_duplicates(duplicates)\n",
    "    else:\n",
    "        print(f'No duplicates found in {folder}')"
   ]
  },
  {
   "cell_type": "markdown",
   "id": "bac0ad7a",
   "metadata": {},
   "source": [
    "## Load Data from images"
   ]
  },
  {
   "cell_type": "code",
   "execution_count": 89,
   "id": "cc7f6042",
   "metadata": {},
   "outputs": [],
   "source": [
    "img_size = (90,90)\n",
    "def load_data(directory='faces',img_size=(90,90)):\n",
    "    ls = os.listdir(directory)\n",
    "    #players = ['Messi','Ronaldo','Unknown']\n",
    "    players = [x for x in ls if '.' not in x]\n",
    "    X = []\n",
    "    y = []\n",
    "    for player in players:\n",
    "        folder_player = directory+'/'+player\n",
    "        files = os.listdir(folder_player)\n",
    "        for file in files:\n",
    "            image_file = folder_player+'/'+file\n",
    "            image=plt.imread(image_file)\n",
    "            image=cv2.resize(image,img_size)\n",
    "            image=cv2.cvtColor(image,cv2.COLOR_BGR2GRAY)\n",
    "            image = cv2.equalizeHist(image)\n",
    "            X.append(image)\n",
    "            y.append(player)\n",
    "    X = np.array(X)\n",
    "    y = np.array(y)\n",
    "    return X,y"
   ]
  },
  {
   "cell_type": "markdown",
   "id": "1637c41d",
   "metadata": {},
   "source": [
    "# Split Data  into Train-Test set:\n",
    "- Load images data from \"faces/\"\n",
    "- Split the data into train, and test (80/20)"
   ]
  },
  {
   "cell_type": "code",
   "execution_count": 90,
   "id": "a1eda4ec",
   "metadata": {},
   "outputs": [],
   "source": [
    "X,y = load_data(directory='faces')\n",
    "from sklearn.model_selection import train_test_split\n",
    "X_train,X_test,y_train,y_test = train_test_split(X,y,stratify=y,test_size=0.25,random_state=33)"
   ]
  },
  {
   "cell_type": "markdown",
   "id": "0aa98441",
   "metadata": {},
   "source": [
    "### Extract HOG Features"
   ]
  },
  {
   "cell_type": "code",
   "execution_count": 91,
   "id": "23e7aba3",
   "metadata": {},
   "outputs": [],
   "source": [
    "def HOG(x):\n",
    "    parameters = {'pixels_per_cell':(12,12),\n",
    "                  'cells_per_block':(3,3),\n",
    "                  'orientations':6,\n",
    "                  'image_size':img_size}\n",
    "    with open('hog_parameters.para','wb') as f:\n",
    "        pickle.dump(parameters,f)\n",
    "    \n",
    "    return hog(x,pixels_per_cell=parameters['pixels_per_cell'],\n",
    "               cells_per_block=parameters['cells_per_block'],\n",
    "               orientations=parameters['orientations'])\n",
    "\n",
    "def computeHOG(X):\n",
    "    if len(X.shape)>=3:\n",
    "        hog_features = []\n",
    "        for image in X:\n",
    "            hog_features.append(HOG(image))\n",
    "    elif type(X)==list:\n",
    "        hog_features = []\n",
    "        for image in X:\n",
    "            hog_features.append(HOG(image))\n",
    "    else:\n",
    "        hog_features = HOG(X)\n",
    "    return np.array(hog_features)"
   ]
  },
  {
   "cell_type": "code",
   "execution_count": 92,
   "id": "7fcd5f9d",
   "metadata": {},
   "outputs": [],
   "source": [
    "features_train = computeHOG(X_train)\n",
    "features_test = computeHOG(X_test)"
   ]
  },
  {
   "cell_type": "markdown",
   "id": "1556bb95",
   "metadata": {},
   "source": [
    "## Training the Model"
   ]
  },
  {
   "cell_type": "code",
   "execution_count": 93,
   "id": "9e33743b",
   "metadata": {},
   "outputs": [],
   "source": [
    "from sklearn.pipeline import make_pipeline,Pipeline\n",
    "from sklearn.preprocessing import RobustScaler,MinMaxScaler\n",
    "from sklearn.svm import SVC"
   ]
  },
  {
   "cell_type": "code",
   "execution_count": 94,
   "id": "c6d67d27",
   "metadata": {
    "scrolled": true
   },
   "outputs": [],
   "source": [
    "svm = SVC(class_weight='balanced',random_state=33,C=1.0,probability=True)\n",
    "scaler = make_pipeline(RobustScaler(),MinMaxScaler())\n",
    "preprocessor = Pipeline(steps=[('scaler1',scaler)],verbose=True)\n",
    "model = Pipeline(steps = [('preprocessor',preprocessor),('classifier',svm)],verbose=True)"
   ]
  },
  {
   "cell_type": "code",
   "execution_count": 95,
   "id": "4f23b496",
   "metadata": {},
   "outputs": [
    {
     "name": "stdout",
     "output_type": "stream",
     "text": [
      "[Pipeline] ........... (step 1 of 1) Processing scaler1, total=   0.6s\n",
      "[Pipeline] ...... (step 1 of 2) Processing preprocessor, total=   0.6s\n",
      "[Pipeline] ........ (step 2 of 2) Processing classifier, total=   7.7s\n"
     ]
    },
    {
     "data": {
      "text/plain": [
       "Pipeline(steps=[('preprocessor',\n",
       "                 Pipeline(steps=[('scaler1',\n",
       "                                  Pipeline(steps=[('robustscaler',\n",
       "                                                   RobustScaler()),\n",
       "                                                  ('minmaxscaler',\n",
       "                                                   MinMaxScaler())]))],\n",
       "                          verbose=True)),\n",
       "                ('classifier',\n",
       "                 SVC(class_weight='balanced', probability=True,\n",
       "                     random_state=33))],\n",
       "         verbose=True)"
      ]
     },
     "execution_count": 95,
     "metadata": {},
     "output_type": "execute_result"
    }
   ],
   "source": [
    "model.fit(features_train,y_train)"
   ]
  },
  {
   "cell_type": "code",
   "execution_count": 96,
   "id": "cc7662b2",
   "metadata": {},
   "outputs": [
    {
     "data": {
      "text/plain": [
       "0.8554913294797688"
      ]
     },
     "execution_count": 96,
     "metadata": {},
     "output_type": "execute_result"
    }
   ],
   "source": [
    "model.score(features_test,y_test)"
   ]
  },
  {
   "cell_type": "markdown",
   "id": "f2b3e9ae",
   "metadata": {},
   "source": [
    "## Tune model Hyperparamaters\n",
    "\n"
   ]
  },
  {
   "cell_type": "code",
   "execution_count": 97,
   "id": "4450ceab",
   "metadata": {},
   "outputs": [
    {
     "name": "stdout",
     "output_type": "stream",
     "text": [
      "Fitting 4 folds for each of 5 candidates, totalling 20 fits\n",
      "[Pipeline] ........... (step 1 of 1) Processing scaler1, total=   0.8s\n",
      "[Pipeline] ...... (step 1 of 2) Processing preprocessor, total=   0.8s\n",
      "[Pipeline] ........ (step 2 of 2) Processing classifier, total=   7.8s\n"
     ]
    },
    {
     "data": {
      "text/plain": [
       "GridSearchCV(cv=4,\n",
       "             estimator=Pipeline(steps=[('preprocessor',\n",
       "                                        Pipeline(steps=[('scaler1',\n",
       "                                                         Pipeline(steps=[('robustscaler',\n",
       "                                                                          RobustScaler()),\n",
       "                                                                         ('minmaxscaler',\n",
       "                                                                          MinMaxScaler())]))],\n",
       "                                                 verbose=True)),\n",
       "                                       ('classifier',\n",
       "                                        SVC(class_weight='balanced',\n",
       "                                            probability=True,\n",
       "                                            random_state=33))],\n",
       "                                verbose=True),\n",
       "             n_jobs=-1, param_grid={'classifier__C': [0.2, 1.0, 2.0, 2.9, 3.2]},\n",
       "             verbose=True)"
      ]
     },
     "execution_count": 97,
     "metadata": {},
     "output_type": "execute_result"
    }
   ],
   "source": [
    "from sklearn.model_selection import GridSearchCV\n",
    "grid = {'classifier__C':[0.2,1.0,2.0,2.9,3.2]}\n",
    "gs = GridSearchCV(estimator=model,param_grid=grid,cv=4,n_jobs=-1,verbose=True)\n",
    "gs.fit(features_train,y_train)"
   ]
  },
  {
   "cell_type": "code",
   "execution_count": 98,
   "id": "39b8b76d",
   "metadata": {},
   "outputs": [
    {
     "name": "stdout",
     "output_type": "stream",
     "text": [
      "Best Score: 0.8069498069498069\n",
      "Best Model: {'classifier__C': 2.0}\n"
     ]
    }
   ],
   "source": [
    "print(f'Best Score: {gs.best_score_}')\n",
    "print(f'Best Model: {gs.best_params_}')"
   ]
  },
  {
   "cell_type": "code",
   "execution_count": 99,
   "id": "1a00db87",
   "metadata": {},
   "outputs": [
    {
     "data": {
      "text/plain": [
       "0.8670520231213873"
      ]
     },
     "execution_count": 99,
     "metadata": {},
     "output_type": "execute_result"
    }
   ],
   "source": [
    "best_svm = gs.best_estimator_\n",
    "best_svm.score(features_test,y_test)"
   ]
  },
  {
   "cell_type": "markdown",
   "id": "e9fad371",
   "metadata": {},
   "source": [
    "## Evaluate the model with Test Set \n",
    "- The Confusion Matrix will show how well the model perform on unseen data\n",
    "- Summarize the models performance on the test set with different metrics"
   ]
  },
  {
   "cell_type": "code",
   "execution_count": 100,
   "id": "1ab4e9cc",
   "metadata": {},
   "outputs": [
    {
     "data": {
      "text/plain": [
       "<sklearn.metrics._plot.confusion_matrix.ConfusionMatrixDisplay at 0x7f8ac5e70dc0>"
      ]
     },
     "execution_count": 100,
     "metadata": {},
     "output_type": "execute_result"
    },
    {
     "data": {
      "image/png": "[encoded data removed]",
      "text/plain": [
       "<Figure size 432x288 with 2 Axes>"
      ]
     },
     "metadata": {
      "needs_background": "light"
     },
     "output_type": "display_data"
    }
   ],
   "source": [
    "from sklearn.metrics import confusion_matrix, ConfusionMatrixDisplay\n",
    "cm = confusion_matrix(y_test,best_svm.predict(features_test))\n",
    "ConfusionMatrixDisplay(cm,display_labels=best_svm.named_steps.classifier.classes_).plot(xticks_rotation=90)"
   ]
  },
  {
   "cell_type": "code",
   "execution_count": 101,
   "id": "77093e51",
   "metadata": {},
   "outputs": [
    {
     "name": "stdout",
     "output_type": "stream",
     "text": [
      "              precision    recall  f1-score   support\n",
      "\n",
      "     Benzema       0.81      0.88      0.85        34\n",
      "     Haaland       0.97      0.97      0.97        40\n",
      " Ibrahimovic       0.88      0.81      0.85        37\n",
      "      Mbappe       0.95      0.90      0.92        41\n",
      "       Messi       0.87      0.76      0.81        34\n",
      "      Modric       0.93      0.95      0.94        39\n",
      "      Neymar       0.79      0.93      0.85        40\n",
      "     Ronaldo       0.83      0.83      0.83        41\n",
      "     Unknown       0.79      0.75      0.77        40\n",
      "\n",
      "    accuracy                           0.87       346\n",
      "   macro avg       0.87      0.87      0.87       346\n",
      "weighted avg       0.87      0.87      0.87       346\n",
      "\n"
     ]
    }
   ],
   "source": [
    "from sklearn.metrics import classification_report\n",
    "print(classification_report(y_test,best_svm.predict(features_test)))"
   ]
  },
  {
   "cell_type": "markdown",
   "id": "74cd7fd4",
   "metadata": {},
   "source": [
    "## Pickle the model"
   ]
  },
  {
   "cell_type": "code",
   "execution_count": 102,
   "id": "f3cf6175",
   "metadata": {},
   "outputs": [],
   "source": [
    "from pickle_ml import save_model, load_model"
   ]
  },
  {
   "cell_type": "code",
   "execution_count": 103,
   "id": "63fe560a",
   "metadata": {},
   "outputs": [
    {
     "name": "stdout",
     "output_type": "stream",
     "text": [
      "[Pipeline] ........... (step 1 of 1) Processing scaler1, total=   0.9s\n",
      "[Pipeline] ...... (step 1 of 2) Processing preprocessor, total=   0.9s\n",
      "[Pipeline] ........ (step 2 of 2) Processing classifier, total=  15.0s\n",
      "[Pipeline] ........... (step 1 of 1) Processing scaler1, total=   1.0s\n",
      "[Pipeline] ...... (step 1 of 2) Processing preprocessor, total=   1.0s\n",
      "[Pipeline] ........ (step 2 of 2) Processing classifier, total=  14.1s\n",
      "[Pipeline] ........... (step 1 of 1) Processing scaler1, total=   1.1s\n",
      "[Pipeline] ...... (step 1 of 2) Processing preprocessor, total=   1.1s\n",
      "[Pipeline] ........ (step 2 of 2) Processing classifier, total=  14.7s\n",
      "[Pipeline] ........... (step 1 of 1) Processing scaler1, total=   1.0s\n",
      "[Pipeline] ...... (step 1 of 2) Processing preprocessor, total=   1.0s\n",
      "[Pipeline] ........ (step 2 of 2) Processing classifier, total=  14.8s\n",
      "[Pipeline] ........... (step 1 of 1) Processing scaler1, total=   1.0s\n",
      "[Pipeline] ...... (step 1 of 2) Processing preprocessor, total=   1.0s\n",
      "[Pipeline] ........ (step 2 of 2) Processing classifier, total=  15.6s\n",
      "[Pipeline] ........... (step 1 of 1) Processing scaler1, total=   0.9s\n",
      "[Pipeline] ...... (step 1 of 2) Processing preprocessor, total=   0.9s\n",
      "[Pipeline] ........ (step 2 of 2) Processing classifier, total=  15.1s\n",
      "[Pipeline] ........... (step 1 of 1) Processing scaler1, total=   1.1s\n",
      "[Pipeline] ...... (step 1 of 2) Processing preprocessor, total=   1.1s\n",
      "[Pipeline] ........ (step 2 of 2) Processing classifier, total=  13.9s\n",
      "[Pipeline] ........... (step 1 of 1) Processing scaler1, total=   1.1s\n",
      "[Pipeline] ...... (step 1 of 2) Processing preprocessor, total=   1.1s\n",
      "[Pipeline] ........ (step 2 of 2) Processing classifier, total=  14.5s\n",
      "[Pipeline] ........... (step 1 of 1) Processing scaler1, total=   1.0s\n",
      "[Pipeline] ...... (step 1 of 2) Processing preprocessor, total=   1.0s\n",
      "[Pipeline] ........ (step 2 of 2) Processing classifier, total=  14.8s\n",
      "[Pipeline] ........... (step 1 of 1) Processing scaler1, total=   1.1s\n",
      "[Pipeline] ...... (step 1 of 2) Processing preprocessor, total=   1.1s\n",
      "[Pipeline] ........ (step 2 of 2) Processing classifier, total=  15.5s\n",
      "[Pipeline] ........... (step 1 of 1) Processing scaler1, total=   0.9s\n",
      "[Pipeline] ...... (step 1 of 2) Processing preprocessor, total=   0.9s\n",
      "[Pipeline] ........ (step 2 of 2) Processing classifier, total=  15.1s\n",
      "[Pipeline] ........... (step 1 of 1) Processing scaler1, total=   1.0s\n",
      "[Pipeline] ...... (step 1 of 2) Processing preprocessor, total=   1.0s\n",
      "[Pipeline] ........ (step 2 of 2) Processing classifier, total=  13.9s\n",
      "[Pipeline] ........... (step 1 of 1) Processing scaler1, total=   1.1s\n",
      "[Pipeline] ...... (step 1 of 2) Processing preprocessor, total=   1.1s\n",
      "[Pipeline] ........ (step 2 of 2) Processing classifier, total=  14.7s\n",
      "[Pipeline] ........... (step 1 of 1) Processing scaler1, total=   1.0s\n",
      "[Pipeline] ...... (step 1 of 2) Processing preprocessor, total=   1.0s\n",
      "[Pipeline] ........ (step 2 of 2) Processing classifier, total=  14.8s\n",
      "[Pipeline] ........... (step 1 of 1) Processing scaler1, total=   1.1s\n",
      "[Pipeline] ...... (step 1 of 2) Processing preprocessor, total=   1.1s\n",
      "[Pipeline] ........ (step 2 of 2) Processing classifier, total=  15.7s\n",
      "[Pipeline] ........... (step 1 of 1) Processing scaler1, total=   1.0s\n",
      "[Pipeline] ...... (step 1 of 2) Processing preprocessor, total=   1.0s\n",
      "[Pipeline] ........ (step 2 of 2) Processing classifier, total=  15.2s\n",
      "[Pipeline] ........... (step 1 of 1) Processing scaler1, total=   1.1s\n",
      "[Pipeline] ...... (step 1 of 2) Processing preprocessor, total=   1.1s\n",
      "[Pipeline] ........ (step 2 of 2) Processing classifier, total=  14.0s\n",
      "[Pipeline] ........... (step 1 of 1) Processing scaler1, total=   1.2s\n",
      "[Pipeline] ...... (step 1 of 2) Processing preprocessor, total=   1.2s\n",
      "[Pipeline] ........ (step 2 of 2) Processing classifier, total=  14.5s\n",
      "[Pipeline] ........... (step 1 of 1) Processing scaler1, total=   1.1s\n",
      "[Pipeline] ...... (step 1 of 2) Processing preprocessor, total=   1.1s\n",
      "[Pipeline] ........ (step 2 of 2) Processing classifier, total=  15.0s\n",
      "[Pipeline] ........... (step 1 of 1) Processing scaler1, total=   1.3s\n",
      "[Pipeline] ...... (step 1 of 2) Processing preprocessor, total=   1.3s\n",
      "[Pipeline] ........ (step 2 of 2) Processing classifier, total=  15.8s\n"
     ]
    }
   ],
   "source": [
    "file_path = 'model.p'\n",
    "save_model(file_path,best_svm)"
   ]
  },
  {
   "cell_type": "code",
   "execution_count": null,
   "id": "74957906",
   "metadata": {},
   "outputs": [],
   "source": []
  }
 ],
 "metadata": {
  "kernelspec": {
   "display_name": "Python 3 (ipykernel)",
   "language": "python",
   "name": "python3"
  },
  "language_info": {
   "codemirror_mode": {
    "name": "ipython",
    "version": 3
   },
   "file_extension": ".py",
   "mimetype": "text/x-python",
   "name": "python",
   "nbconvert_exporter": "python",
   "pygments_lexer": "ipython3",
   "version": "3.9.7"
  }
 },
 "nbformat": 4,
 "nbformat_minor": 5
}
